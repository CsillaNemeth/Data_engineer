{
 "cells": [
  {
   "cell_type": "code",
   "execution_count": null,
   "id": "6aa0e632",
   "metadata": {},
   "outputs": [],
   "source": [
    "def read_json_from_s3(bucket: str, file_key: str) -> pd.DataFrame:\n",
    "    \"\"\"\n",
    "    Reads a JSON file from an S3 bucket and returns its contents as a pandas DataFrame.\n",
    "\n",
    "    Parameters\n",
    "        bucket (str): Name of the S3 bucket.\n",
    "        \n",
    "        file_key (str): Key (path) to the JSON file in the bucket.\n",
    "\n",
    "    Returns:\n",
    "        pd.DataFrame: DataFrame containing the JSON data.\n",
    "    \"\"\"\n",
    "    \n",
    "    s3 = boto3.client('s3')\n",
    "\n",
    "    response = s3.get_object(Bucket = bucket, Key = file_key)\n",
    "    content = response['Body']\n",
    "    weather_data = json.loads(content.read())\n",
    "    \n",
    "    df_data = pd.DataFrame(weather_data)\n",
    "\n",
    "    return df_data"
   ]
  },
  {
   "cell_type": "code",
   "execution_count": null,
   "id": "41239387",
   "metadata": {},
   "outputs": [],
   "source": [
    "df_weather = read_json_from_s3(bucket= bucket, file_key=file_key)\n",
    "print(df_weather)"
   ]
  }
 ],
 "metadata": {
  "language_info": {
   "name": "python"
  }
 },
 "nbformat": 4,
 "nbformat_minor": 5
}
