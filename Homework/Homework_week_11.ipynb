{
 "cells": [
  {
   "cell_type": "markdown",
   "id": "0440e269",
   "metadata": {},
   "source": [
    " SQL queries"
   ]
  },
  {
   "cell_type": "code",
   "execution_count": null,
   "id": "f2b75234",
   "metadata": {},
   "outputs": [],
   "source": [
    "# Task_1: Which 10 companies make the most money?\n",
    "SELECT \n",
    "    company AS company_name,\n",
    "    ROUND(SUM(fare), 2) AS total_fare\n",
    "FROM \n",
    "    \"AwsDataCatalog\".\"de_chicago_taxi\".\"taxi_trips_full\" \n",
    "GROUP BY \n",
    "    company\n",
    "ORDER BY \n",
    "    total_fare DESC\n",
    "LIMIT 10;"
   ]
  },
  {
   "cell_type": "code",
   "execution_count": null,
   "id": "227abe92",
   "metadata": {},
   "outputs": [],
   "source": [
    "# Task_2:  Show the 10 pickup community areas with the most rides. \n",
    "SELECT \n",
    "    pickup_community_area_name AS community_area_name,\n",
    "    COUNT(*) AS ride_count\n",
    "FROM \n",
    "    \"AwsDataCatalog\".\"de_chicago_taxi\".\"taxi_trips_full\" \n",
    "GROUP BY \n",
    "    pickup_community_area_name\n",
    "ORDER BY \n",
    "    ride_count DESC\n",
    "LIMIT 10;\n"
   ]
  },
  {
   "cell_type": "code",
   "execution_count": null,
   "id": "d32d9953",
   "metadata": {},
   "outputs": [],
   "source": [
    "# Task_3: Get the count of taxi rides per day of week. In other words, we'd like to see which day has the most rides.\n",
    "SELECT \n",
    "  CASE day_of_week\n",
    "    WHEN 1 THEN 'Monday'\n",
    "    WHEN 2 THEN 'Tuesday'\n",
    "    WHEN 3 THEN 'Wednesday'\n",
    "    WHEN 4 THEN 'Thursday'\n",
    "    WHEN 5 THEN 'Friday'\n",
    "    WHEN 6 THEN 'Saturday'\n",
    "    WHEN 7 THEN 'Sunday'\n",
    "  END AS day_name,\n",
    "  COUNT(*) AS ride_count\n",
    "FROM \n",
    "    \"AwsDataCatalog\".\"de_chicago_taxi\".\"taxi_trips_full\" \n",
    "GROUP BY \n",
    "  CASE day_of_week\n",
    "    WHEN 1 THEN 'Monday'\n",
    "    WHEN 2 THEN 'Tuesday'\n",
    "    WHEN 3 THEN 'Wednesday'\n",
    "    WHEN 4 THEN 'Thursday'\n",
    "    WHEN 5 THEN 'Friday'\n",
    "    WHEN 6 THEN 'Saturday'\n",
    "    WHEN 7 THEN 'Sunday'\n",
    "  END,\n",
    "  day_of_week\n",
    "ORDER BY \n",
    "  day_of_week\n",
    "LIMIT 7;"
   ]
  },
  {
   "cell_type": "code",
   "execution_count": null,
   "id": "8a51c6bc",
   "metadata": {},
   "outputs": [],
   "source": []
  }
 ],
 "metadata": {
  "language_info": {
   "name": "python"
  }
 },
 "nbformat": 4,
 "nbformat_minor": 5
}
