{
 "cells": [
  {
   "cell_type": "code",
   "execution_count": null,
   "metadata": {},
   "outputs": [],
   "source": [
    "import pandas as pd\n",
    "import requests\n",
    "from datetime import datetime\n",
    "from dateutil.relativedelta import relativedelta"
   ]
  },
  {
   "cell_type": "code",
   "execution_count": null,
   "metadata": {},
   "outputs": [],
   "source": [
    "# Get T-2 months' weather data\n",
    "\n",
    "url = 'https://archive-api.open-meteo.com/v1/era5?'\n",
    "\n",
    "current_datetime = datetime.now() - relativedelta(months=2)\n",
    "formatted_datetime = current_datetime.strftime(\"%Y-%m-%d\")\n",
    "params = {\n",
    "    \"latitude\": 41.85,\n",
    "    \"longitude\": -87.65,\n",
    "    \"start_date\": formatted_datetime,\n",
    "    \"end_date\": formatted_datetime,\n",
    "    \"hourly\": \"temperature_2m,wind_speed_10m,rain,precipitation\"\n",
    "}\n",
    "\n",
    "\n",
    "response = requests.get(url,params=params)\n",
    "weather_data = response.json()\n",
    "weather_data"
   ]
  },
  {
   "cell_type": "code",
   "execution_count": null,
   "metadata": {},
   "outputs": [],
   "source": [
    "# Extract T-2 months' weather data\n",
    "\n",
    "weather_data_filtered = {\n",
    "    'datetime': weather_data['hourly'][\"time\"],\n",
    "    'tempereature': weather_data['hourly']['temperature_2m'],\n",
    "    'wind_speed': weather_data['hourly']['wind_speed_10m'],\n",
    "    'rain': weather_data['hourly']['rain'],\n",
    "    'precipitation': weather_data['hourly']['precipitation']\n",
    "}\n",
    "\n",
    "weather_df = pd.DataFrame(weather_data_filtered)\n",
    "weather_df['datetime'] = pd.to_datetime(weather_df['datetime'])\n",
    "weather_df.info()\n",
    "\n",
    "weather_data_filtered.to_csv('weather_data_date.csv',  index = False)"
   ]
  },
  {
   "cell_type": "code",
   "execution_count": null,
   "metadata": {},
   "outputs": [],
   "source": []
  }
 ],
 "metadata": {
  "kernelspec": {
   "display_name": "venv",
   "language": "python",
   "name": "python3"
  },
  "language_info": {
   "codemirror_mode": {
    "name": "ipython",
    "version": 3
   },
   "file_extension": ".py",
   "mimetype": "text/x-python",
   "name": "python",
   "nbconvert_exporter": "python",
   "pygments_lexer": "ipython3",
   "version": "3.12.3"
  }
 },
 "nbformat": 4,
 "nbformat_minor": 2
}
